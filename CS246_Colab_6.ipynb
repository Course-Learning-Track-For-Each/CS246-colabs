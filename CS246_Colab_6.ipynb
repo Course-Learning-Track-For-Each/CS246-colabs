{
  "nbformat": 4,
  "nbformat_minor": 0,
  "metadata": {
    "colab": {
      "name": "CS246 - Colab 6.ipynb",
      "provenance": [],
      "collapsed_sections": [],
      "toc_visible": true,
      "machine_shape": "hm"
    },
    "kernelspec": {
      "name": "python3",
      "display_name": "Python 3"
    }
  },
  "cells": [
    {
      "cell_type": "markdown",
      "metadata": {
        "id": "kPt5q27L5557"
      },
      "source": [
        "# CS246 - Colab 6\n",
        "## node2vec"
      ]
    },
    {
      "cell_type": "markdown",
      "metadata": {
        "id": "p0-YhEpP_Ds-"
      },
      "source": [
        "### Setup"
      ]
    },
    {
      "cell_type": "markdown",
      "metadata": {
        "id": "82kmj9fIVlq0"
      },
      "source": [
        "First of all, we install the [graph2vec library](https://github.com/VHRanger/graph2vec) which offers a fast implementation of the node2vec method.\n",
        "\n",
        "If you are curious to learn how to implement fast random walks on graphs, I recommend you to [read the blog post](https://www.singlelunch.com/2019/08/01/700x-faster-node2vec-models-fastest-random-walks-on-a-graph/) which explains some of the design choices behind this library."
      ]
    },
    {
      "cell_type": "code",
      "metadata": {
        "id": "Ld017NzXCo-g",
        "colab": {
          "base_uri": "https://localhost:8080/"
        },
        "outputId": "8c135600-167f-49ac-e464-9b76232fea7c"
      },
      "source": [
        "!pip install nodevectors"
      ],
      "execution_count": 2,
      "outputs": [
        {
          "output_type": "stream",
          "text": [
            "Requirement already satisfied: nodevectors in /usr/local/lib/python3.7/dist-packages (0.1.23)\n",
            "Requirement already satisfied: pandas>=1.0 in /usr/local/lib/python3.7/dist-packages (from nodevectors) (1.1.5)\n",
            "Requirement already satisfied: scipy in /usr/local/lib/python3.7/dist-packages (from nodevectors) (1.4.1)\n",
            "Requirement already satisfied: numpy in /usr/local/lib/python3.7/dist-packages (from nodevectors) (1.19.5)\n",
            "Requirement already satisfied: numba in /usr/local/lib/python3.7/dist-packages (from nodevectors) (0.51.2)\n",
            "Requirement already satisfied: networkx in /usr/local/lib/python3.7/dist-packages (from nodevectors) (2.6.2)\n",
            "Requirement already satisfied: gensim in /usr/local/lib/python3.7/dist-packages (from nodevectors) (3.6.0)\n",
            "Requirement already satisfied: scikit-learn in /usr/local/lib/python3.7/dist-packages (from nodevectors) (0.22.2.post1)\n",
            "Requirement already satisfied: csrgraph in /usr/local/lib/python3.7/dist-packages (from nodevectors) (0.1.28)\n",
            "Requirement already satisfied: pytz>=2017.2 in /usr/local/lib/python3.7/dist-packages (from pandas>=1.0->nodevectors) (2018.9)\n",
            "Requirement already satisfied: python-dateutil>=2.7.3 in /usr/local/lib/python3.7/dist-packages (from pandas>=1.0->nodevectors) (2.8.2)\n",
            "Requirement already satisfied: six>=1.5 in /usr/local/lib/python3.7/dist-packages (from python-dateutil>=2.7.3->pandas>=1.0->nodevectors) (1.15.0)\n",
            "Requirement already satisfied: tqdm in /usr/local/lib/python3.7/dist-packages (from csrgraph->nodevectors) (4.62.0)\n",
            "Requirement already satisfied: smart-open>=1.2.1 in /usr/local/lib/python3.7/dist-packages (from gensim->nodevectors) (5.1.0)\n",
            "Requirement already satisfied: setuptools in /usr/local/lib/python3.7/dist-packages (from numba->nodevectors) (57.4.0)\n",
            "Requirement already satisfied: llvmlite<0.35,>=0.34.0.dev0 in /usr/local/lib/python3.7/dist-packages (from numba->nodevectors) (0.34.0)\n",
            "Requirement already satisfied: joblib>=0.11 in /usr/local/lib/python3.7/dist-packages (from scikit-learn->nodevectors) (1.0.1)\n"
          ],
          "name": "stdout"
        }
      ]
    },
    {
      "cell_type": "markdown",
      "metadata": {
        "id": "pUCNE4-5Wc8b"
      },
      "source": [
        "We now import the library, and create a small wrapper class which will expose only the few hyperparameters we will need to tune in this Colab"
      ]
    },
    {
      "cell_type": "code",
      "metadata": {
        "id": "QiIPtudrGlTf"
      },
      "source": [
        "from nodevectors import Node2Vec\n",
        "import networkx as nx\n",
        "\n",
        "class Node2VecNew(Node2Vec):\n",
        "  \"\"\"\n",
        "  Parameters\n",
        "  ----------\n",
        "  p : float\n",
        "      p parameter of node2vec\n",
        "  q : float\n",
        "      q parameter of node2vec\n",
        "  d : int\n",
        "      dimensionality of the embedding vectors\n",
        "  \"\"\"\n",
        "  def __init__(self, p=1, q=1, d=32):\n",
        "    super().__init__(\n",
        "                 n_components=d,\n",
        "                     walklen=10,\n",
        "                     epochs=50,\n",
        "                     return_weight=1.0/p,\n",
        "                     neighbor_weight=1.0/q,\n",
        "                     threads=0,\n",
        "                     w2vparams={'window': 4,\n",
        "                                'negative': 5, \n",
        "                                'iter': 10,\n",
        "                                'ns_exponent': 0.5,\n",
        "                                'batch_words': 128})"
      ],
      "execution_count": 3,
      "outputs": []
    },
    {
      "cell_type": "markdown",
      "metadata": {
        "id": "qwtlO4_m_LbQ"
      },
      "source": [
        "Lastly, let's import some of the common libraries needed for our task."
      ]
    },
    {
      "cell_type": "code",
      "metadata": {
        "id": "twk-K-jilWK7"
      },
      "source": [
        "import pandas as pd\n",
        "import numpy as np\n",
        "import matplotlib.pyplot as plt\n",
        "%matplotlib inline"
      ],
      "execution_count": 4,
      "outputs": []
    },
    {
      "cell_type": "markdown",
      "metadata": {
        "id": "kAYRX2PMm0L6"
      },
      "source": [
        "### Example\n",
        "\n",
        "In the example below, we will try to reproduce the plot in slide 8 of [CS246 - Lecture 12](http://web.stanford.edu/class/cs246/slides/12-graphs2.pdf)."
      ]
    },
    {
      "cell_type": "code",
      "metadata": {
        "id": "2PsVt5f2CsmP",
        "colab": {
          "base_uri": "https://localhost:8080/"
        },
        "outputId": "9945998c-4fb2-46d9-9689-c7573912226a"
      },
      "source": [
        "# Load the Zachary's Karate Club as a NetworkX Graph object\n",
        "KCG = nx.karate_club_graph()\n",
        "\n",
        "# Fit embedding model to the Karate Club graph\n",
        "n2v = Node2VecNew(1, 1, 2)\n",
        "n2v.fit(KCG)"
      ],
      "execution_count": 5,
      "outputs": [
        {
          "output_type": "stream",
          "text": [
            "Making walks... "
          ],
          "name": "stdout"
        },
        {
          "output_type": "stream",
          "text": [
            "/usr/local/lib/python3.7/dist-packages/numba/np/ufunc/parallel.py:363: NumbaWarning: The TBB threading layer requires TBB version 2019.5 or later i.e., TBB_INTERFACE_VERSION >= 11005. Found TBB_INTERFACE_VERSION = 9107. The TBB threading layer is disabled.\n",
            "  warnings.warn(problem)\n"
          ],
          "name": "stderr"
        },
        {
          "output_type": "stream",
          "text": [
            "Done, T=3.23\n",
            "Mapping Walk Names... Done, T=0.03\n",
            "Training W2V... Done, T=0.36\n"
          ],
          "name": "stdout"
        }
      ]
    },
    {
      "cell_type": "code",
      "metadata": {
        "id": "ZEjzhwEiC1HD"
      },
      "source": [
        "embeddings = []\n",
        "for node in KCG.nodes:\n",
        "  embedding = list(n2v.predict(node))\n",
        "  club = KCG.nodes[node]['club']\n",
        "  embeddings.append(embedding + [club])\n",
        "\n",
        "# Construct a pandas dataframe with the 2D embeddings from node2vec,\n",
        "# plus the club name that each node belongs to after the split\n",
        "df = pd.DataFrame(embeddings, columns=['x', 'y', 'club'])"
      ],
      "execution_count": 6,
      "outputs": []
    },
    {
      "cell_type": "code",
      "metadata": {
        "id": "fJBTilMGLInb",
        "colab": {
          "base_uri": "https://localhost:8080/",
          "height": 297
        },
        "outputId": "de395bff-68f7-4606-aff2-61e88a533dd4"
      },
      "source": [
        "# Nodes who stayed with the Mr. Hi will be plotted in red, while nodes\n",
        "# who moved with the Officer will be plotted in blue\n",
        "colors = ['red' if x == 'Mr. Hi' else 'blue' for x in df.club]\n",
        "df.plot.scatter(x='x', y='y', s=50, c=colors)"
      ],
      "execution_count": 7,
      "outputs": [
        {
          "output_type": "execute_result",
          "data": {
            "text/plain": [
              "<matplotlib.axes._subplots.AxesSubplot at 0x7f21da1f1410>"
            ]
          },
          "metadata": {
            "tags": []
          },
          "execution_count": 7
        },
        {
          "output_type": "display_data",
          "data": {
            "image/png": "[encoded data removed]",
            "text/plain": [
              "<Figure size 432x288 with 1 Axes>"
            ]
          },
          "metadata": {
            "tags": [],
            "needs_background": "light"
          }
        }
      ]
    },
    {
      "cell_type": "markdown",
      "metadata": {
        "id": "e6vmpmj6Ylph"
      },
      "source": [
        "If our example trained correctly, you should notice a clear separation between the blue and red nodes.  Solely from the graph structure, node2vec could predict how the Zachary's Karate Club split!\n",
        "\n",
        "Tune the hyperparameters ```p``` and ```q```, and notice how they affect the resulting embeddings."
      ]
    },
    {
      "cell_type": "markdown",
      "metadata": {
        "id": "vbmr23B2rJKR"
      },
      "source": [
        "### Your Task"
      ]
    },
    {
      "cell_type": "markdown",
      "metadata": {
        "id": "x15OQeyys1xd"
      },
      "source": [
        "Now we will study the behavior of node2vec on [barbell graphs](https://en.wikipedia.org/wiki/Barbell_graph).\n",
        "\n",
        "Below you can see a toy example of a barbell graph generated with NetworkX."
      ]
    },
    {
      "cell_type": "code",
      "metadata": {
        "id": "xUYxs4E8aHgG",
        "colab": {
          "base_uri": "https://localhost:8080/",
          "height": 319
        },
        "outputId": "efc376e6-03f9-45d7-e927-db47b5c2a3c8"
      },
      "source": [
        "toy_barbell = nx.barbell_graph(7, 0)\n",
        "nx.draw_kamada_kawai(toy_barbell)"
      ],
      "execution_count": 8,
      "outputs": [
        {
          "output_type": "display_data",
          "data": {
            "image/png": "[encoded data removed]",
            "text/plain": [
              "<Figure size 432x288 with 1 Axes>"
            ]
          },
          "metadata": {
            "tags": []
          }
        }
      ]
    },
    {
      "cell_type": "markdown",
      "metadata": {
        "id": "G7K3-57FyD8D"
      },
      "source": [
        "\n",
        "\n",
        "\n",
        "Generate a larger barbell graph, where each complete graph has exactly 1000 nodes, and the path length between the complete graphs is equal to 1 (i.e., all the nodes in the barbell graph belong to either one of the two complete graphs, and the connecting path does not have any internal node).\n",
        "\n",
        "Then, learn node2vec embeddings on this graph, setting ```p = 1, q = 1``` and ```d = 10```."
      ]
    },
    {
      "cell_type": "code",
      "metadata": {
        "id": "k_rmp-SvaIOt",
        "colab": {
          "base_uri": "https://localhost:8080/"
        },
        "outputId": "9521ed11-dbae-4051-a79e-40cd02b8589e"
      },
      "source": [
        "# YOUR CODE HERE\n",
        "barbell_graph = nx.barbell_graph(500, 0)\n",
        "model = Node2VecNew(1, 1, 10)\n",
        "model.fit(barbell_graph)"
      ],
      "execution_count": 9,
      "outputs": [
        {
          "output_type": "stream",
          "text": [
            "Making walks... Done, T=0.17\n",
            "Mapping Walk Names... Done, T=0.55\n",
            "Training W2V... Done, T=15.09\n"
          ],
          "name": "stdout"
        }
      ]
    },
    {
      "cell_type": "markdown",
      "metadata": {
        "id": "fyxZBVwhzLQe"
      },
      "source": [
        "Write a function that takes as input a node id ```n``` in the graph (e.g., ```5```) and returns a list containing the cosine similarity between the node2vec vector of the input node ```n``` and all the nodes in the given barbell graph (including the similarity with ```n``` itself)."
      ]
    },
    {
      "cell_type": "code",
      "metadata": {
        "id": "aq7advtkjXSp",
        "colab": {
          "base_uri": "https://localhost:8080/"
        },
        "outputId": "477ac5e1-5d5f-4009-8cba-8f14c0222822"
      },
      "source": [
        "# YOUR CODE HERE\n",
        "import numpy as np\n",
        "embeddings = []\n",
        "for node in barbell_graph.nodes:\n",
        "  embedding = list(model.predict(node))\n",
        "  embeddings.append(embedding)\n",
        "node_embeddings = np.array(embeddings)\n",
        "print(node_embeddings.shape)"
      ],
      "execution_count": 11,
      "outputs": [
        {
          "output_type": "stream",
          "text": [
            "(1000, 10)\n"
          ],
          "name": "stdout"
        }
      ]
    },
    {
      "cell_type": "code",
      "metadata": {
        "colab": {
          "base_uri": "https://localhost:8080/"
        },
        "id": "RQx9WWl7FnVJ",
        "outputId": "994679de-7c67-458b-c5d0-cf86d2f78674"
      },
      "source": [
        "def get_node_similarity(index):\n",
        "  node = node_embeddings[index]\n",
        "  result = np.matmul(node_embeddings, node.T) / (np.linalg.norm(node) * np.linalg.norm(node_embeddings, axis=1))\n",
        "  return result\n",
        "get_node_similarity(5)"
      ],
      "execution_count": 14,
      "outputs": [
        {
          "output_type": "stream",
          "text": [
            "(1000,)\n"
          ],
          "name": "stdout"
        },
        {
          "output_type": "execute_result",
          "data": {
            "text/plain": [
              "array([0.9619703 , 0.9773122 , 0.9445599 , 0.9720823 , 0.96709806,\n",
              "       1.0000001 , 0.97164875, 0.97725093, 0.9683827 , 0.9837505 ,\n",
              "       0.98887944, 0.9680586 , 0.969172  , 0.96704936, 0.9705211 ,\n",
              "       0.97928435, 0.95376   , 0.97413063, 0.9853248 , 0.98284096,\n",
              "       0.9875698 , 0.9636345 , 0.971512  , 0.9929587 , 0.9560199 ,\n",
              "       0.97467846, 0.96079576, 0.9315528 , 0.9588803 , 0.9541931 ,\n",
              "       0.96328086, 0.9768097 , 0.9772782 , 0.97047627, 0.96905583,\n",
              "       0.9728474 , 0.96423405, 0.9752467 , 0.9822128 , 0.96537566,\n",
              "       0.9826755 , 0.9719669 , 0.96182036, 0.96784   , 0.9841674 ,\n",
              "       0.96229476, 0.9621881 , 0.98492   , 0.95711285, 0.9584407 ,\n",
              "       0.9667531 , 0.9523447 , 0.96412057, 0.96731466, 0.952584  ,\n",
              "       0.9609277 , 0.96593785, 0.9826062 , 0.9789727 , 0.97690576,\n",
              "       0.9754052 , 0.96239376, 0.9588729 , 0.9763478 , 0.97415555,\n",
              "       0.97514474, 0.97566986, 0.9566907 , 0.9813203 , 0.9740069 ,\n",
              "       0.97313404, 0.9725909 , 0.954558  , 0.9743462 , 0.94064915,\n",
              "       0.9647051 , 0.9580564 , 0.9625507 , 0.9641409 , 0.9840812 ,\n",
              "       0.95349306, 0.9869802 , 0.94967854, 0.96766394, 0.97297466,\n",
              "       0.9678248 , 0.97511935, 0.9734108 , 0.9727069 , 0.9508068 ,\n",
              "       0.9557231 , 0.9725249 , 0.98259753, 0.96734476, 0.9612877 ,\n",
              "       0.9608584 , 0.96774334, 0.9675163 , 0.9772024 , 0.9766996 ,\n",
              "       0.96400607, 0.9666357 , 0.9606123 , 0.98098207, 0.9841355 ,\n",
              "       0.94980085, 0.95429987, 0.978136  , 0.97132003, 0.95796424,\n",
              "       0.977471  , 0.9602448 , 0.9466175 , 0.96441346, 0.95346636,\n",
              "       0.9642849 , 0.96205187, 0.9698724 , 0.98497564, 0.94914776,\n",
              "       0.9494896 , 0.95936775, 0.95969635, 0.9717627 , 0.9733807 ,\n",
              "       0.9728452 , 0.978293  , 0.97646093, 0.9596211 , 0.9657363 ,\n",
              "       0.9666256 , 0.97930837, 0.96053165, 0.97949976, 0.968964  ,\n",
              "       0.949962  , 0.98753154, 0.9799575 , 0.9767858 , 0.9656003 ,\n",
              "       0.95982397, 0.9748463 , 0.96557856, 0.97704524, 0.95237166,\n",
              "       0.968477  , 0.96132183, 0.96345   , 0.9777918 , 0.978338  ,\n",
              "       0.97117794, 0.9795558 , 0.9829505 , 0.96343225, 0.96988326,\n",
              "       0.98043877, 0.9773772 , 0.9739483 , 0.9651957 , 0.9432681 ,\n",
              "       0.9617849 , 0.95681643, 0.95491153, 0.9746373 , 0.9826071 ,\n",
              "       0.9713144 , 0.9613372 , 0.9706719 , 0.9644569 , 0.96921974,\n",
              "       0.9730865 , 0.9694515 , 0.97261095, 0.9754227 , 0.9838328 ,\n",
              "       0.9504284 , 0.9785324 , 0.96864533, 0.9701737 , 0.9781116 ,\n",
              "       0.9759704 , 0.9699032 , 0.96394825, 0.96469885, 0.98583406,\n",
              "       0.949191  , 0.9842059 , 0.95487875, 0.97903776, 0.9699511 ,\n",
              "       0.9676636 , 0.96587276, 0.95048106, 0.97555643, 0.96323615,\n",
              "       0.96978295, 0.9737879 , 0.955756  , 0.961327  , 0.97808814,\n",
              "       0.9690983 , 0.952571  , 0.9891393 , 0.9622022 , 0.98227066,\n",
              "       0.9655498 , 0.97317266, 0.98184085, 0.97322035, 0.98134625,\n",
              "       0.9835858 , 0.9736035 , 0.9717133 , 0.971061  , 0.9850313 ,\n",
              "       0.96107113, 0.9693694 , 0.98293316, 0.96288556, 0.98217916,\n",
              "       0.9618148 , 0.95659393, 0.962659  , 0.9661485 , 0.9697102 ,\n",
              "       0.97502315, 0.97258157, 0.9631729 , 0.964761  , 0.96403503,\n",
              "       0.9757871 , 0.9352704 , 0.98529357, 0.9903378 , 0.95888656,\n",
              "       0.9651043 , 0.97333556, 0.9674393 , 0.95498866, 0.9806002 ,\n",
              "       0.95755535, 0.9726804 , 0.97450227, 0.97603637, 0.9542296 ,\n",
              "       0.97957855, 0.97800964, 0.93954617, 0.9665169 , 0.9717721 ,\n",
              "       0.9656966 , 0.9615345 , 0.9638941 , 0.9606247 , 0.9749646 ,\n",
              "       0.9788411 , 0.96969837, 0.97687393, 0.97609496, 0.98511606,\n",
              "       0.9562527 , 0.97625256, 0.97245866, 0.96648777, 0.98878455,\n",
              "       0.972516  , 0.95862556, 0.9498093 , 0.9543007 , 0.97158825,\n",
              "       0.9640693 , 0.9654114 , 0.9704476 , 0.98752165, 0.96691227,\n",
              "       0.933823  , 0.98328173, 0.97004956, 0.9637591 , 0.96109825,\n",
              "       0.96683705, 0.9785521 , 0.9728605 , 0.9745923 , 0.97344947,\n",
              "       0.96676606, 0.9580163 , 0.9732975 , 0.9877475 , 0.98027295,\n",
              "       0.9597027 , 0.96648663, 0.9760453 , 0.95826834, 0.97482127,\n",
              "       0.97524214, 0.9749251 , 0.9820491 , 0.98483115, 0.9544965 ,\n",
              "       0.9823656 , 0.97892547, 0.9238901 , 0.97394   , 0.9774585 ,\n",
              "       0.97535264, 0.9800874 , 0.9794469 , 0.9709972 , 0.9768769 ,\n",
              "       0.96578825, 0.9618744 , 0.9691885 , 0.96840084, 0.96301615,\n",
              "       0.99183786, 0.94462085, 0.96504945, 0.9802739 , 0.96481997,\n",
              "       0.9853533 , 0.9366255 , 0.9601697 , 0.96933424, 0.9839006 ,\n",
              "       0.96814346, 0.96976054, 0.968422  , 0.97643965, 0.9713177 ,\n",
              "       0.9735575 , 0.9657929 , 0.9639131 , 0.9701181 , 0.9677364 ,\n",
              "       0.96741766, 0.9660219 , 0.97802585, 0.97111946, 0.949225  ,\n",
              "       0.9761279 , 0.9614906 , 0.9724487 , 0.96625006, 0.9782445 ,\n",
              "       0.98824745, 0.96839166, 0.97851855, 0.96054965, 0.98138785,\n",
              "       0.9423539 , 0.9477265 , 0.9808913 , 0.96857363, 0.96031946,\n",
              "       0.9590933 , 0.96693003, 0.97241735, 0.98907673, 0.96483743,\n",
              "       0.9824403 , 0.9816379 , 0.97324264, 0.9706369 , 0.9491875 ,\n",
              "       0.93936515, 0.9650056 , 0.9814955 , 0.98074514, 0.9589737 ,\n",
              "       0.9838056 , 0.9783241 , 0.9803655 , 0.9808    , 0.97219276,\n",
              "       0.9674978 , 0.96325237, 0.9548374 , 0.96642673, 0.94985056,\n",
              "       0.9524888 , 0.95147943, 0.961133  , 0.95436436, 0.9775729 ,\n",
              "       0.9900088 , 0.96795166, 0.95221066, 0.97962976, 0.95374936,\n",
              "       0.97660196, 0.9795309 , 0.9814381 , 0.961686  , 0.9631276 ,\n",
              "       0.96929234, 0.9580463 , 0.96295434, 0.9914003 , 0.956563  ,\n",
              "       0.96217793, 0.9779193 , 0.96627486, 0.9536624 , 0.9686463 ,\n",
              "       0.9545704 , 0.9684029 , 0.96983105, 0.9821925 , 0.9533688 ,\n",
              "       0.9754944 , 0.97121966, 0.9813187 , 0.9718407 , 0.9700168 ,\n",
              "       0.97299176, 0.966841  , 0.97395587, 0.9579128 , 0.9710508 ,\n",
              "       0.96502   , 0.97259647, 0.98118484, 0.9896975 , 0.9726925 ,\n",
              "       0.97032887, 0.97331643, 0.9747617 , 0.96563256, 0.9580765 ,\n",
              "       0.98153716, 0.97807413, 0.9672501 , 0.98170805, 0.96950847,\n",
              "       0.95850587, 0.95002294, 0.9628625 , 0.9650116 , 0.97111   ,\n",
              "       0.9735421 , 0.9552524 , 0.9636167 , 0.9629706 , 0.96695626,\n",
              "       0.9645542 , 0.981808  , 0.9742273 , 0.9777686 , 0.96247864,\n",
              "       0.97112596, 0.9618029 , 0.9634222 , 0.96879673, 0.98575336,\n",
              "       0.97199464, 0.982833  , 0.95297676, 0.980329  , 0.97685283,\n",
              "       0.988117  , 0.9620671 , 0.96535975, 0.9724226 , 0.9797455 ,\n",
              "       0.9756709 , 0.96320057, 0.9703531 , 0.961522  , 0.97449493,\n",
              "       0.9828636 , 0.9427643 , 0.972692  , 0.97899175, 0.9778735 ,\n",
              "       0.9780641 , 0.97229385, 0.9582093 , 0.96387744, 0.9425771 ,\n",
              "       0.955409  , 0.9634226 , 0.9625852 , 0.96564704, 0.98041844,\n",
              "       0.9657674 , 0.9752751 , 0.97890395, 0.9678185 , 0.9742694 ,\n",
              "       0.9756299 , 0.9701201 , 0.9400113 , 0.95096374, 0.9438413 ,\n",
              "       0.9611295 , 0.9641864 , 0.9827989 , 0.9753178 , 0.9904748 ,\n",
              "       0.14211784, 0.12389899, 0.13766722, 0.12440474, 0.10448628,\n",
              "       0.1126523 , 0.11524012, 0.11360082, 0.10541514, 0.12971038,\n",
              "       0.12602486, 0.10292929, 0.12182207, 0.12641032, 0.11153357,\n",
              "       0.08879168, 0.13607733, 0.12221191, 0.12395921, 0.1300918 ,\n",
              "       0.11851542, 0.12439118, 0.12170104, 0.13337582, 0.13133352,\n",
              "       0.1126645 , 0.12995507, 0.13077442, 0.13102506, 0.13279682,\n",
              "       0.12084349, 0.10802864, 0.1149551 , 0.1198919 , 0.1291116 ,\n",
              "       0.13279739, 0.10825665, 0.12732312, 0.11618853, 0.13013265,\n",
              "       0.10859054, 0.13309143, 0.13613358, 0.13598946, 0.11734287,\n",
              "       0.12605327, 0.13274851, 0.11956322, 0.12331527, 0.10931053,\n",
              "       0.11659556, 0.13232817, 0.12425525, 0.1120071 , 0.12305812,\n",
              "       0.12439819, 0.11722329, 0.11746231, 0.13759604, 0.13392216,\n",
              "       0.13332106, 0.1261383 , 0.13554363, 0.12170086, 0.14439116,\n",
              "       0.10722937, 0.13312162, 0.12561922, 0.12703942, 0.11647584,\n",
              "       0.12329476, 0.11590399, 0.12933579, 0.12379   , 0.11067835,\n",
              "       0.13502836, 0.12727816, 0.14058533, 0.1485008 , 0.11590773,\n",
              "       0.116164  , 0.12519018, 0.13180052, 0.14904325, 0.11336595,\n",
              "       0.12135497, 0.1166636 , 0.13463049, 0.12299741, 0.10537922,\n",
              "       0.13605708, 0.12961817, 0.12172765, 0.10154787, 0.1436486 ,\n",
              "       0.13054417, 0.09930196, 0.11884709, 0.12154066, 0.135853  ,\n",
              "       0.11137588, 0.13432889, 0.10195044, 0.14924172, 0.12934963,\n",
              "       0.10429725, 0.12522489, 0.13072738, 0.12797555, 0.14007285,\n",
              "       0.12122332, 0.11804405, 0.12088782, 0.12052543, 0.12819467,\n",
              "       0.10065751, 0.1241903 , 0.09999034, 0.13396697, 0.1129419 ,\n",
              "       0.12986895, 0.09780678, 0.12297445, 0.13032553, 0.1128284 ,\n",
              "       0.1255094 , 0.1322787 , 0.14616156, 0.13353924, 0.1310652 ,\n",
              "       0.09730008, 0.1185596 , 0.12071582, 0.12666202, 0.12052232,\n",
              "       0.12324031, 0.1387998 , 0.12153627, 0.11097723, 0.12729967,\n",
              "       0.13125814, 0.14909372, 0.11267391, 0.1067278 , 0.12772918,\n",
              "       0.12183671, 0.15495451, 0.12227451, 0.11835638, 0.12167206,\n",
              "       0.10831055, 0.12971155, 0.13778794, 0.10496254, 0.1345724 ,\n",
              "       0.1275821 , 0.12783775, 0.12041102, 0.1345219 , 0.13034126,\n",
              "       0.11387955, 0.10607411, 0.117287  , 0.13444585, 0.1357369 ,\n",
              "       0.11004741, 0.12346075, 0.10980928, 0.12841672, 0.11998685,\n",
              "       0.12327155, 0.13243689, 0.13463463, 0.11501164, 0.12269258,\n",
              "       0.11981164, 0.10269776, 0.12600714, 0.12818567, 0.14101698,\n",
              "       0.10397911, 0.11455717, 0.12256098, 0.12401313, 0.12155935,\n",
              "       0.1062177 , 0.1343157 , 0.14219944, 0.11068349, 0.14059414,\n",
              "       0.13798662, 0.13561915, 0.12379768, 0.12594566, 0.13829337,\n",
              "       0.13233083, 0.10940128, 0.14029011, 0.12168517, 0.11971039,\n",
              "       0.10867003, 0.13377988, 0.12664686, 0.11866146, 0.12166102,\n",
              "       0.12546125, 0.13234022, 0.1235363 , 0.11958526, 0.12599052,\n",
              "       0.14276074, 0.11080515, 0.11245017, 0.12699847, 0.12251657,\n",
              "       0.13487463, 0.11868487, 0.12592982, 0.12746458, 0.12709811,\n",
              "       0.12716015, 0.10094699, 0.12581998, 0.131847  , 0.14226925,\n",
              "       0.10920611, 0.11509235, 0.12428126, 0.11967418, 0.11838143,\n",
              "       0.11788472, 0.12953568, 0.12911761, 0.12082962, 0.11787571,\n",
              "       0.12199242, 0.11898495, 0.12330043, 0.11111594, 0.11940286,\n",
              "       0.10229523, 0.13113065, 0.10635453, 0.12219516, 0.11501586,\n",
              "       0.12294266, 0.12432435, 0.13269015, 0.11648777, 0.11689131,\n",
              "       0.12321486, 0.14122747, 0.12581278, 0.1307924 , 0.12462179,\n",
              "       0.13468601, 0.12861216, 0.10665   , 0.11585405, 0.11640636,\n",
              "       0.11740465, 0.12274117, 0.1227728 , 0.13429156, 0.11523283,\n",
              "       0.10985927, 0.12313945, 0.11559714, 0.1191774 , 0.12960008,\n",
              "       0.13184269, 0.1184551 , 0.11994257, 0.12822601, 0.11893871,\n",
              "       0.12032728, 0.15663007, 0.09902772, 0.13470231, 0.12043881,\n",
              "       0.11920543, 0.12267166, 0.1328632 , 0.11227746, 0.1041574 ,\n",
              "       0.12401078, 0.14296483, 0.11164095, 0.13918296, 0.10504106,\n",
              "       0.12274021, 0.12295033, 0.10784054, 0.14119175, 0.13475145,\n",
              "       0.1331396 , 0.11533337, 0.12589492, 0.11121026, 0.12511504,\n",
              "       0.13332498, 0.13111798, 0.12722309, 0.12229057, 0.112185  ,\n",
              "       0.10841353, 0.11439211, 0.1162519 , 0.12855788, 0.10384332,\n",
              "       0.11522158, 0.14005946, 0.12259249, 0.13768135, 0.12373702,\n",
              "       0.12293273, 0.08827262, 0.11699454, 0.11363344, 0.14263892,\n",
              "       0.13014679, 0.09838293, 0.12374831, 0.11974256, 0.12148512,\n",
              "       0.12895018, 0.12752269, 0.11810241, 0.11434053, 0.13066663,\n",
              "       0.12817062, 0.13588609, 0.12167237, 0.12696008, 0.12686631,\n",
              "       0.1311849 , 0.14112113, 0.12214703, 0.11711449, 0.1264965 ,\n",
              "       0.13298783, 0.12882034, 0.12296948, 0.1336136 , 0.12986535,\n",
              "       0.10812549, 0.12079818, 0.13781494, 0.12570797, 0.12397034,\n",
              "       0.12360957, 0.13893898, 0.11885786, 0.10298055, 0.13064983,\n",
              "       0.1355379 , 0.1386677 , 0.12637664, 0.146423  , 0.10507742,\n",
              "       0.1355278 , 0.12133066, 0.14153191, 0.12418129, 0.11308141,\n",
              "       0.12277025, 0.11853271, 0.12251151, 0.11056558, 0.11331093,\n",
              "       0.11814509, 0.14752142, 0.11250864, 0.11975312, 0.13431004,\n",
              "       0.12377384, 0.12564644, 0.12961368, 0.13044265, 0.12399155,\n",
              "       0.13503778, 0.10915097, 0.13495685, 0.10230803, 0.11674071,\n",
              "       0.13124394, 0.1226965 , 0.14412269, 0.12196214, 0.10722015,\n",
              "       0.13591751, 0.12154837, 0.13710561, 0.1361964 , 0.12783083,\n",
              "       0.11079722, 0.12034276, 0.13048044, 0.11116078, 0.10037926,\n",
              "       0.1260933 , 0.1131768 , 0.13413098, 0.13466683, 0.1309292 ,\n",
              "       0.13136302, 0.12307657, 0.12235475, 0.12474003, 0.12654491,\n",
              "       0.12697493, 0.136341  , 0.13016135, 0.14220092, 0.11697988,\n",
              "       0.12271516, 0.12952769, 0.1196171 , 0.13073325, 0.13897678,\n",
              "       0.13483623, 0.14478043, 0.10550112, 0.12299049, 0.12876998,\n",
              "       0.09473544, 0.12456416, 0.14079161, 0.1315161 , 0.11137482,\n",
              "       0.1154033 , 0.10701837, 0.11153369, 0.11936231, 0.1228683 ,\n",
              "       0.13337667, 0.126056  , 0.11993652, 0.12836403, 0.1110175 ,\n",
              "       0.1235472 , 0.13061132, 0.12181665, 0.10807445, 0.12325645,\n",
              "       0.11286388, 0.1307595 , 0.12265012, 0.12829646, 0.13123067,\n",
              "       0.11348443, 0.09763056, 0.11643266, 0.12431505, 0.12153625,\n",
              "       0.12149838, 0.12000705, 0.12437943, 0.13991937, 0.11114567,\n",
              "       0.10878951, 0.14828613, 0.12739445, 0.1234776 , 0.11961376,\n",
              "       0.13936712, 0.11741839, 0.11741977, 0.12506491, 0.10711437,\n",
              "       0.11836675, 0.11183335, 0.11956628, 0.1372816 , 0.12374996,\n",
              "       0.1211822 , 0.12884934, 0.12562902, 0.14532647, 0.11732411,\n",
              "       0.11617274, 0.13412803, 0.10967962, 0.13216822, 0.12941308,\n",
              "       0.1305773 , 0.10848564, 0.10832743, 0.1285284 , 0.1030997 ,\n",
              "       0.12308736, 0.11021952, 0.1323278 , 0.11492708, 0.10971571,\n",
              "       0.11294828, 0.12838925, 0.10382923, 0.1307147 , 0.1196381 ],\n",
              "      dtype=float32)"
            ]
          },
          "metadata": {
            "tags": []
          },
          "execution_count": 14
        }
      ]
    },
    {
      "cell_type": "markdown",
      "metadata": {
        "id": "zw1oNDDD2dZO"
      },
      "source": [
        "Generate another barbell graph, this time adding a path of length 51 between the two complete graphs. To find out how, refer to the NetworkX documentation: [https://networkx.github.io/documentation/stable/reference/generated/networkx.generators.classic.barbell_graph.html#networkx.generators.classic.barbell_graph](https://networkx.github.io/documentation/stable/reference/generated/networkx.generators.classic.barbell_graph.html#networkx.generators.classic.barbell_graph)\n",
        "\n",
        "Learn the node2vec embeddings for the nodes of this new graph, using the same hyperparameters as before."
      ]
    },
    {
      "cell_type": "code",
      "metadata": {
        "id": "OlPg6k6z65Gk"
      },
      "source": [
        "# YOUR CODE HERE\n"
      ],
      "execution_count": null,
      "outputs": []
    },
    {
      "cell_type": "markdown",
      "metadata": {
        "id": "SIrXJyVNP2AI"
      },
      "source": [
        "Once you have working code for each cell above, **head over to Gradescope, read carefully the questions, and submit your solution for this Colab**!\n"
      ]
    }
  ]
}